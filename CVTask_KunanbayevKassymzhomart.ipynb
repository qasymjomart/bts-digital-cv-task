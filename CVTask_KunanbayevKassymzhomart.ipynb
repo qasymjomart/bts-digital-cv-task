{
 "cells": [
  {
   "cell_type": "markdown",
   "metadata": {
    "colab_type": "text",
    "id": "gVBBfWo1t3mp"
   },
   "source": [
    "### Computer Vision Internship Program\n"
   ]
  },
  {
   "cell_type": "markdown",
   "metadata": {
    "colab_type": "text",
    "id": "n9Aw6R6Vt3mq"
   },
   "source": [
    "\n",
    "#### Practical Task description:\n",
    "Your task is to write to a pipeline to classify images from MNIST dataset\n",
    "(http://yann.lecun.com/exdb/mnist/)  using Neural Networks!\n",
    "\n"
   ]
  },
  {
   "cell_type": "markdown",
   "metadata": {
    "colab_type": "text",
    "id": "4pnrI9cjt3mq"
   },
   "source": [
    "![alt text](mnist.png \"Title\")"
   ]
  },
  {
   "cell_type": "markdown",
   "metadata": {
    "colab_type": "text",
    "id": "IuG8T1lDt3mr"
   },
   "source": [
    "\n",
    "##### To complete this task, you will have to implement the following steps:\n",
    "<br> 1. Download and read the data - 10 points\n",
    "<br> 2. Show how you use augmentation functions. To get the points, visualize the original image vs augmented image using 4 augmentation techniques of your choice - 10 points\n",
    "<br> 3. Implement a Neural Network which classifies given images. You can use any deep learning framework - 10 points\n",
    "<br> 4. Implement a training procedure using your dataloader, augmentation functions and neural network - 10 points\n",
    "<br> 5. Plot loss graph - 10 points\n",
    "<br> 6. Print accuracy of your model on test set -  10 points\n",
    "<br> 7. Show us how your model works! Plot a few input images and corresponding predictions of your model - 10 points\n",
    "<br> 8. Upload your work to github - 5 points. Google/dropbox/yandex drive - 0 points\n",
    "\n",
    "Max = 75 points!\n",
    "\n",
    "##### Main notes:\n",
    "<br> *- implement your work in provided jupyter notebook \n",
    "<br> - you can use any framework \n",
    "<br> - we are not too strict about the requirements: if your work corresponds to the task wording, the chances are you will get the full points*\n",
    "\n",
    "\n",
    "Please, upload to a google/dropbox/yandex drive or github  and send the link to the following google form: https://docs.google.com/forms/d/e/1FAIpQLSeeYILriugs1Vdxa3r01nS1469VT-_t_ZCNF18zwQVl-XKkHQ/viewform?usp=sf_link \n",
    "\n",
    "If you have any questions, please mail to:\n",
    "olzhas.kabdolov@btsdigital.kz and rustem.burkhanov@btsdigital.kz \n",
    "\n",
    "**The deadline is 27th of May, 12 o'Clock in the noon**\n",
    "\n",
    "\n",
    "####  Good luck and have fun!\n"
   ]
  },
  {
   "cell_type": "markdown",
   "metadata": {
    "colab_type": "text",
    "id": "rFJu8mK2t3mr"
   },
   "source": [
    "##### Task 1. Dataloader"
   ]
  },
  {
   "cell_type": "code",
   "execution_count": 1,
   "metadata": {
    "colab": {},
    "colab_type": "code",
    "id": "4q2wfO1Zt3ms"
   },
   "outputs": [
    {
     "data": {
      "image/png": "[encoded data removed]",
      "text/plain": [
       "<Figure size 432x288 with 1 Axes>"
      ]
     },
     "metadata": {
      "needs_background": "light"
     },
     "output_type": "display_data"
    }
   ],
   "source": [
    "import numpy as np # linear algebra\n",
    "import pandas as pd # data processing, CSV file I/O (e.g. pd.read_csv)\n",
    "import matplotlib.pyplot as plt #for plotting\n",
    "from collections import Counter\n",
    "from sklearn.metrics import confusion_matrix\n",
    "import itertools\n",
    "import seaborn as sns\n",
    "\n",
    "#As it was requested, the MNIST dataset is manually downloaded, (not load_data()):\n",
    "!curl -O http://yann.lecun.com/exdb/mnist/train-images-idx3-ubyte.gz\n",
    "!curl -O http://yann.lecun.com/exdb/mnist/train-labels-idx1-ubyte.gz\n",
    "!curl -O http://yann.lecun.com/exdb/mnist/t10k-images-idx3-ubyte.gz\n",
    "!curl -O http://yann.lecun.com/exdb/mnist/t10k-labels-idx1-ubyte.gz\n",
    "\n",
    "%matplotlib inline\n",
    "\n",
    "!gunzip t10k-images-idx3-ubyte.gz\n",
    "!gunzip t10k-labels-idx1-ubyte.gz\n",
    "!gunzip train-images-idx3-ubyte.gz\n",
    "!gunzip train-labels-idx1-ubyte.gz\n",
    "\n",
    "import idx2numpy\n",
    "\n",
    "arr_train = idx2numpy.convert_from_file('train-images-idx3-ubyte')\n",
    "arr_train_labels = idx2numpy.convert_from_file('train-labels-idx1-ubyte')\n",
    "arr_test = idx2numpy.convert_from_file('t10k-images-idx3-ubyte')\n",
    "arr_test_labels = idx2numpy.convert_from_file('t10k-labels-idx1-ubyte')\n",
    "\n",
    "\n",
    "from matplotlib import pyplot as plt\n",
    "plt.imshow(arr_train[4], interpolation='nearest')\n",
    "plt.show()\n",
    "\n",
    "arr_train.flags.writeable = True\n",
    "arr_train_labels.flags.writeable = True\n",
    "arr_test.flags.writeable = True\n",
    "arr_test_labels.flags.writeable = True\n",
    "\n",
    "\n"
   ]
  },
  {
   "cell_type": "markdown",
   "metadata": {
    "colab_type": "text",
    "id": "GPMY_Jrgt3mu"
   },
   "source": [
    "##### Task 2. Augmentation"
   ]
  },
  {
   "cell_type": "code",
   "execution_count": 2,
   "metadata": {
    "colab": {},
    "colab_type": "code",
    "id": "vSTq3HTwt3mv"
   },
   "outputs": [
    {
     "name": "stdout",
     "output_type": "stream",
     "text": [
      "(60000, 28, 28)\n",
      "(120000, 28, 28)\n"
     ]
    },
    {
     "data": {
      "image/png": "[encoded data removed]",
      "text/plain": [
       "<Figure size 432x288 with 1 Axes>"
      ]
     },
     "metadata": {
      "needs_background": "light"
     },
     "output_type": "display_data"
    }
   ],
   "source": [
    "\n",
    "#Data Augmentation Technique #1: FLIP\n",
    "\n",
    "arr_train_1 = []\n",
    "arr_test_1= []\n",
    "\n",
    "for i in range(0, 60000):\n",
    "    arr_train_1.append(np.fliplr(arr_train[i]))\n",
    "\n",
    "for i in range(0, 10000):\n",
    "    arr_test_1.append(np.fliplr(arr_test[i]))\n",
    "    \n",
    "arr_train_1 = np.asarray(arr_train_1)\n",
    "arr_train = np.concatenate((arr_train, arr_train_1))\n",
    "arr_train_labels = np.concatenate((arr_train_labels, arr_train_labels))\n",
    "\n",
    "arr_test_1 = np.asarray(arr_test_1)\n",
    "arr_test = np.concatenate((arr_test, arr_test_1))\n",
    "arr_test_labels = np.concatenate((arr_test_labels, arr_test_labels))\n",
    "\n",
    "print(arr_train_1.shape)\n",
    "print(arr_train.shape)\n",
    "\n",
    "plt.imshow(arr_train_1[4], interpolation='nearest')\n",
    "plt.show()"
   ]
  },
  {
   "cell_type": "code",
   "execution_count": 3,
   "metadata": {},
   "outputs": [
    {
     "name": "stdout",
     "output_type": "stream",
     "text": [
      "(60000, 28, 28)\n",
      "(180000, 28, 28)\n"
     ]
    },
    {
     "data": {
      "image/png": "[encoded data removed]",
      "text/plain": [
       "<Figure size 432x288 with 1 Axes>"
      ]
     },
     "metadata": {
      "needs_background": "light"
     },
     "output_type": "display_data"
    }
   ],
   "source": [
    "#Data Augmentation Technique #2: Benchmarking pixels\n",
    "\n",
    "arr_train_2 = np.copy(arr_train[:60000])\n",
    "arr_train_2[arr_train_2 >= 128] = 255\n",
    "arr_train_2[arr_train_2 < 128] = 0\n",
    "\n",
    "arr_test_2 = np.copy(arr_test[:10000])\n",
    "arr_test_2[arr_test_2 >= 128] = 255\n",
    "arr_test_2[arr_test_2 < 128] = 0\n",
    "\n",
    "arr_train = np.concatenate((arr_train, arr_train_2))\n",
    "arr_test = np.concatenate((arr_test, arr_test_2))\n",
    "\n",
    "print(arr_train_2.shape)\n",
    "print(arr_train.shape)\n",
    "\n",
    "plt.imshow(arr_train_2[4], interpolation='nearest')\n",
    "plt.show()"
   ]
  },
  {
   "cell_type": "code",
   "execution_count": 4,
   "metadata": {},
   "outputs": [
    {
     "name": "stdout",
     "output_type": "stream",
     "text": [
      "(120000,)\n",
      "(20000,)\n"
     ]
    }
   ],
   "source": [
    "print(arr_train_labels.shape)\n",
    "print(arr_test_labels.shape)\n"
   ]
  },
  {
   "cell_type": "code",
   "execution_count": 5,
   "metadata": {},
   "outputs": [],
   "source": [
    "arr_train_labels = np.concatenate((arr_train_labels, arr_train_labels[:60000]))\n",
    "arr_test_labels = np.concatenate((arr_test_labels, arr_test_labels[:10000]))"
   ]
  },
  {
   "cell_type": "code",
   "execution_count": 6,
   "metadata": {},
   "outputs": [
    {
     "name": "stdout",
     "output_type": "stream",
     "text": [
      "(180000,)\n",
      "(30000,)\n",
      "(180000, 28, 28)\n",
      "(30000, 28, 28)\n"
     ]
    }
   ],
   "source": [
    "print(arr_train_labels.shape)\n",
    "print(arr_test_labels.shape)\n",
    "print(arr_train.shape)\n",
    "print(arr_test.shape)\n"
   ]
  },
  {
   "cell_type": "markdown",
   "metadata": {
    "colab_type": "text",
    "id": "SLanUsSBt3mx"
   },
   "source": [
    "##### Task 3. Neural Network"
   ]
  },
  {
   "cell_type": "code",
   "execution_count": 7,
   "metadata": {
    "colab": {},
    "colab_type": "code",
    "id": "QAZ5ZrNst3m1"
   },
   "outputs": [],
   "source": [
    "!source activate myenv\n",
    "\n",
    "import os\n",
    "os.environ['KMP_DUPLICATE_LIB_OK']='True'\n",
    "os.environ[\"KERAS_BACKEND\"] = \"plaidml.keras.backend\""
   ]
  },
  {
   "cell_type": "code",
   "execution_count": 8,
   "metadata": {
    "colab": {},
    "colab_type": "code",
    "id": "AS7iAt6ut3mx"
   },
   "outputs": [
    {
     "name": "stderr",
     "output_type": "stream",
     "text": [
      "Using plaidml.keras.backend backend.\n",
      "INFO:plaidml:Opening device \"metal_amd_radeon_pro_560.0\"\n"
     ]
    },
    {
     "name": "stdout",
     "output_type": "stream",
     "text": [
      "x_train shape: (180000, 28, 28, 1)\n",
      "180000 train samples\n",
      "30000 test samples\n"
     ]
    }
   ],
   "source": [
    "from __future__ import print_function\n",
    "import keras\n",
    "from keras.datasets import mnist\n",
    "from keras.models import Sequential\n",
    "from keras.layers import Dense, Dropout, Flatten\n",
    "from keras.layers import Conv2D, MaxPooling2D\n",
    "from keras import backend as K\n",
    "\n",
    "batch_size = 128\n",
    "num_classes = 10\n",
    "epochs = 12\n",
    "\n",
    "# input image dimensions\n",
    "img_rows, img_cols = 28, 28\n",
    "\n",
    "x_train = arr_train\n",
    "x_test = arr_test\n",
    "y_train = arr_train_labels\n",
    "y_test = arr_test_labels\n",
    "\n",
    "if K.image_data_format() == 'channels_first':\n",
    "    x_train = x_train.reshape(x_train.shape[0], 1, img_rows, img_cols)\n",
    "    x_test = x_test.reshape(x_test.shape[0], 1, img_rows, img_cols)\n",
    "    input_shape = (1, img_rows, img_cols)\n",
    "else:\n",
    "    x_train = x_train.reshape(x_train.shape[0], img_rows, img_cols, 1)\n",
    "    x_test = x_test.reshape(x_test.shape[0], img_rows, img_cols, 1)\n",
    "    input_shape = (img_rows, img_cols, 1)\n",
    "\n",
    "x_train = x_train.astype('float32')\n",
    "x_test = x_test.astype('float32')\n",
    "x_train /= 255\n",
    "x_test /= 255\n",
    "print('x_train shape:', x_train.shape)\n",
    "print(x_train.shape[0], 'train samples')\n",
    "print(x_test.shape[0], 'test samples')\n",
    "\n",
    "# convert class vectors to binary class matrices\n",
    "y_train = keras.utils.to_categorical(y_train, num_classes)\n",
    "y_test = keras.utils.to_categorical(y_test, num_classes)\n",
    "\n",
    "model = Sequential()\n",
    "model.add(Conv2D(32, kernel_size=(3, 3),\n",
    "                 activation='relu',\n",
    "                 input_shape=input_shape))\n",
    "model.add(Conv2D(64, (3, 3), activation='relu'))\n",
    "model.add(MaxPooling2D(pool_size=(2, 2)))\n",
    "model.add(Dropout(0.25))\n",
    "model.add(Flatten())\n",
    "model.add(Dense(128, activation='relu'))\n",
    "model.add(Dropout(0.5))\n",
    "model.add(Dense(num_classes, activation='softmax'))\n",
    "\n",
    "model.compile(loss=keras.losses.categorical_crossentropy,\n",
    "              optimizer=keras.optimizers.Adadelta(),\n",
    "              metrics=['accuracy'])\n",
    "\n"
   ]
  },
  {
   "cell_type": "markdown",
   "metadata": {
    "colab_type": "text",
    "id": "qygfc-nTt3mz"
   },
   "source": [
    "##### Task 4. Train loop"
   ]
  },
  {
   "cell_type": "code",
   "execution_count": 9,
   "metadata": {
    "colab": {},
    "colab_type": "code",
    "id": "yASpfS-At3mz"
   },
   "outputs": [
    {
     "name": "stdout",
     "output_type": "stream",
     "text": [
      "Train on 180000 samples, validate on 30000 samples\n",
      "Epoch 1/12\n",
      "179840/180000 [============================>.] - ETA: 0s - loss: 0.2547 - acc: 0.9212"
     ]
    },
    {
     "name": "stderr",
     "output_type": "stream",
     "text": [
      "INFO:plaidml:Analyzing Ops: 85 of 286 operations complete\n"
     ]
    },
    {
     "name": "stdout",
     "output_type": "stream",
     "text": [
      "180000/180000 [==============================] - 57s 315us/step - loss: 0.2546 - acc: 0.9212 - val_loss: 0.0813 - val_acc: 0.9742\n",
      "Epoch 2/12\n",
      "180000/180000 [==============================] - 52s 286us/step - loss: 0.1060 - acc: 0.9685 - val_loss: 0.0554 - val_acc: 0.9816\n",
      "Epoch 3/12\n",
      "180000/180000 [==============================] - 52s 288us/step - loss: 0.0846 - acc: 0.9748 - val_loss: 0.0488 - val_acc: 0.9836\n",
      "Epoch 4/12\n",
      "180000/180000 [==============================] - 52s 287us/step - loss: 0.0733 - acc: 0.9780 - val_loss: 0.0509 - val_acc: 0.9841\n",
      "Epoch 5/12\n",
      "180000/180000 [==============================] - 53s 295us/step - loss: 0.0671 - acc: 0.9798 - val_loss: 0.0410 - val_acc: 0.9861\n",
      "Epoch 6/12\n",
      "180000/180000 [==============================] - 52s 291us/step - loss: 0.0638 - acc: 0.9807 - val_loss: 0.0398 - val_acc: 0.9875\n",
      "Epoch 7/12\n",
      "180000/180000 [==============================] - 52s 290us/step - loss: 0.0603 - acc: 0.9821 - val_loss: 0.0417 - val_acc: 0.9872\n",
      "Epoch 8/12\n",
      "180000/180000 [==============================] - 52s 288us/step - loss: 0.0579 - acc: 0.9828 - val_loss: 0.0461 - val_acc: 0.9859\n",
      "Epoch 9/12\n",
      "180000/180000 [==============================] - 52s 288us/step - loss: 0.0552 - acc: 0.9834 - val_loss: 0.0464 - val_acc: 0.9871\n",
      "Epoch 10/12\n",
      "180000/180000 [==============================] - 52s 287us/step - loss: 0.0566 - acc: 0.9833 - val_loss: 0.0409 - val_acc: 0.9885\n",
      "Epoch 11/12\n",
      "180000/180000 [==============================] - 51s 286us/step - loss: 0.0551 - acc: 0.9835 - val_loss: 0.0404 - val_acc: 0.9874\n",
      "Epoch 12/12\n",
      "180000/180000 [==============================] - 52s 287us/step - loss: 0.0525 - acc: 0.9840 - val_loss: 0.0384 - val_acc: 0.9884\n",
      "Test loss: 0.038394245247046155\n",
      "Test accuracy: 0.9884\n"
     ]
    }
   ],
   "source": [
    "history = model.fit(x_train, y_train,\n",
    "          batch_size=batch_size,\n",
    "          epochs=epochs,\n",
    "          verbose=1,\n",
    "          validation_data=(x_test, y_test))\n",
    "score = model.evaluate(x_test, y_test, verbose=0)\n",
    "print('Test loss:', score[0])\n",
    "print('Test accuracy:', score[1])"
   ]
  },
  {
   "cell_type": "markdown",
   "metadata": {
    "colab_type": "text",
    "id": "ftby4ykqt3m1"
   },
   "source": [
    "##### Task 5. Loss plot"
   ]
  },
  {
   "cell_type": "code",
   "execution_count": 10,
   "metadata": {},
   "outputs": [
    {
     "data": {
      "image/png": "[encoded data removed]",
      "text/plain": [
       "<Figure size 432x288 with 1 Axes>"
      ]
     },
     "metadata": {
      "needs_background": "light"
     },
     "output_type": "display_data"
    }
   ],
   "source": [
    "plt.plot(history.history['loss'])\n",
    "plt.plot(history.history['val_loss'])\n",
    "plt.title('model loss')\n",
    "plt.ylabel('loss')\n",
    "plt.xlabel('epoch')\n",
    "plt.legend(['train', 'test'], loc='upper left')\n",
    "plt.show()"
   ]
  },
  {
   "cell_type": "markdown",
   "metadata": {
    "colab_type": "text",
    "id": "Sx53SFh1t3m3"
   },
   "source": [
    "##### Task 6. Test set accuracy"
   ]
  },
  {
   "cell_type": "code",
   "execution_count": 11,
   "metadata": {
    "colab": {},
    "colab_type": "code",
    "id": "0YhujMBVt3m4"
   },
   "outputs": [
    {
     "name": "stdout",
     "output_type": "stream",
     "text": [
      "Test loss: 0.038394245247046155\n",
      "Test accuracy: 0.9884\n"
     ]
    }
   ],
   "source": [
    "score = model.evaluate(x_test, y_test, verbose=0)\n",
    "print('Test loss:', score[0])\n",
    "print('Test accuracy:', score[1])"
   ]
  },
  {
   "cell_type": "markdown",
   "metadata": {
    "colab_type": "text",
    "id": "BunOyQeMt3m5"
   },
   "source": [
    "##### Task 7. Inference"
   ]
  },
  {
   "cell_type": "code",
   "execution_count": 27,
   "metadata": {
    "colab": {},
    "colab_type": "code",
    "id": "lkRUOoRyt3m6"
   },
   "outputs": [
    {
     "data": {
      "image/png": "[encoded data removed]",
      "text/plain": [
       "<Figure size 432x288 with 1 Axes>"
      ]
     },
     "metadata": {
      "needs_background": "light"
     },
     "output_type": "display_data"
    },
    {
     "name": "stdout",
     "output_type": "stream",
     "text": [
      "Prediction:  (array([0]),)\n"
     ]
    },
    {
     "data": {
      "image/png": "[encoded data removed]",
      "text/plain": [
       "<Figure size 432x288 with 1 Axes>"
      ]
     },
     "metadata": {
      "needs_background": "light"
     },
     "output_type": "display_data"
    },
    {
     "name": "stdout",
     "output_type": "stream",
     "text": [
      "Prediction:  (array([8]),)\n"
     ]
    },
    {
     "data": {
      "image/png": "[encoded data removed]",
      "text/plain": [
       "<Figure size 432x288 with 1 Axes>"
      ]
     },
     "metadata": {
      "needs_background": "light"
     },
     "output_type": "display_data"
    },
    {
     "name": "stdout",
     "output_type": "stream",
     "text": [
      "Prediction:  (array([4]),)\n"
     ]
    },
    {
     "data": {
      "image/png": "[encoded data removed]",
      "text/plain": [
       "<Figure size 432x288 with 1 Axes>"
      ]
     },
     "metadata": {
      "needs_background": "light"
     },
     "output_type": "display_data"
    },
    {
     "name": "stdout",
     "output_type": "stream",
     "text": [
      "Prediction:  (array([7]),)\n"
     ]
    },
    {
     "data": {
      "image/png": "[encoded data removed]",
      "text/plain": [
       "<Figure size 432x288 with 1 Axes>"
      ]
     },
     "metadata": {
      "needs_background": "light"
     },
     "output_type": "display_data"
    },
    {
     "name": "stdout",
     "output_type": "stream",
     "text": [
      "Prediction:  (array([9]),)\n"
     ]
    },
    {
     "data": {
      "image/png": "[encoded data removed]",
      "text/plain": [
       "<Figure size 432x288 with 1 Axes>"
      ]
     },
     "metadata": {
      "needs_background": "light"
     },
     "output_type": "display_data"
    },
    {
     "name": "stdout",
     "output_type": "stream",
     "text": [
      "Prediction:  (array([7]),)\n"
     ]
    },
    {
     "data": {
      "image/png": "[encoded data removed]",
      "text/plain": [
       "<Figure size 432x288 with 1 Axes>"
      ]
     },
     "metadata": {
      "needs_background": "light"
     },
     "output_type": "display_data"
    },
    {
     "name": "stdout",
     "output_type": "stream",
     "text": [
      "Prediction:  (array([2]),)\n"
     ]
    },
    {
     "data": {
      "image/png": "[encoded data removed]",
      "text/plain": [
       "<Figure size 432x288 with 1 Axes>"
      ]
     },
     "metadata": {
      "needs_background": "light"
     },
     "output_type": "display_data"
    },
    {
     "name": "stdout",
     "output_type": "stream",
     "text": [
      "Prediction:  (array([0]),)\n"
     ]
    },
    {
     "data": {
      "image/png": "[encoded data removed]",
      "text/plain": [
       "<Figure size 432x288 with 1 Axes>"
      ]
     },
     "metadata": {
      "needs_background": "light"
     },
     "output_type": "display_data"
    },
    {
     "name": "stdout",
     "output_type": "stream",
     "text": [
      "Prediction:  (array([5]),)\n"
     ]
    },
    {
     "data": {
      "image/png": "[encoded data removed]",
      "text/plain": [
       "<Figure size 432x288 with 1 Axes>"
      ]
     },
     "metadata": {
      "needs_background": "light"
     },
     "output_type": "display_data"
    },
    {
     "name": "stdout",
     "output_type": "stream",
     "text": [
      "Prediction:  (array([0]),)\n"
     ]
    }
   ],
   "source": [
    "for i in range(10):\n",
    "    a = np.random.randint(10000)\n",
    "    plt.imshow(x_test[a].reshape(28,28), interpolation='nearest')\n",
    "    plt.show()\n",
    "\n",
    "    print(\"Prediction: \", np.where(max(model.predict(x_test[a].reshape(1,28,28,1))) == np.amax(max(model.predict(x_test[a].reshape(1,28,28,1))))))"
   ]
  },
  {
   "cell_type": "code",
   "execution_count": null,
   "metadata": {},
   "outputs": [],
   "source": []
  }
 ],
 "metadata": {
  "colab": {
   "name": "CVTask.ipynb",
   "provenance": [],
   "version": "0.3.2"
  },
  "kernelspec": {
   "display_name": "Python 3",
   "language": "python",
   "name": "python3"
  },
  "language_info": {
   "codemirror_mode": {
    "name": "ipython",
    "version": 3
   },
   "file_extension": ".py",
   "mimetype": "text/x-python",
   "name": "python",
   "nbconvert_exporter": "python",
   "pygments_lexer": "ipython3",
   "version": "3.6.6"
  }
 },
 "nbformat": 4,
 "nbformat_minor": 1
}
